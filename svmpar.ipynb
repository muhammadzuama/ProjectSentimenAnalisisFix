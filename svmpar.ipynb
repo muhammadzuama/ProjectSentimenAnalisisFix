{
 "cells": [
  {
   "cell_type": "code",
   "execution_count": 1,
   "id": "b43ccf2d",
   "metadata": {},
   "outputs": [],
   "source": [
    "import pandas as pd\n",
    "import numpy as np"
   ]
  },
  {
   "cell_type": "code",
   "execution_count": 2,
   "id": "8a57a074",
   "metadata": {},
   "outputs": [
    {
     "data": {
      "text/html": [
       "<div>\n",
       "<style scoped>\n",
       "    .dataframe tbody tr th:only-of-type {\n",
       "        vertical-align: middle;\n",
       "    }\n",
       "\n",
       "    .dataframe tbody tr th {\n",
       "        vertical-align: top;\n",
       "    }\n",
       "\n",
       "    .dataframe thead th {\n",
       "        text-align: right;\n",
       "    }\n",
       "</style>\n",
       "<table border=\"1\" class=\"dataframe\">\n",
       "  <thead>\n",
       "    <tr style=\"text-align: right;\">\n",
       "      <th></th>\n",
       "      <th>Unnamed: 0</th>\n",
       "      <th>sentimen</th>\n",
       "      <th>tweet</th>\n",
       "    </tr>\n",
       "  </thead>\n",
       "  <tbody>\n",
       "    <tr>\n",
       "      <th>0</th>\n",
       "      <td>0</td>\n",
       "      <td>negatif</td>\n",
       "      <td>Kata @prabowo Indonesia tidak dihargai bangsa ...</td>\n",
       "    </tr>\n",
       "    <tr>\n",
       "      <th>1</th>\n",
       "      <td>1</td>\n",
       "      <td>netral</td>\n",
       "      <td>Batuan Langka, Tasbih Jokowi Hadiah dari Habib...</td>\n",
       "    </tr>\n",
       "    <tr>\n",
       "      <th>2</th>\n",
       "      <td>2</td>\n",
       "      <td>netral</td>\n",
       "      <td>Di era Jokowi, ekonomi Indonesia semakin baik....</td>\n",
       "    </tr>\n",
       "    <tr>\n",
       "      <th>3</th>\n",
       "      <td>3</td>\n",
       "      <td>positif</td>\n",
       "      <td>Bagi Sumatera Selatan, Asian Games berdampak p...</td>\n",
       "    </tr>\n",
       "    <tr>\n",
       "      <th>4</th>\n",
       "      <td>4</td>\n",
       "      <td>negatif</td>\n",
       "      <td>Negara kita ngutang buat bngun infrastruktur y...</td>\n",
       "    </tr>\n",
       "    <tr>\n",
       "      <th>...</th>\n",
       "      <td>...</td>\n",
       "      <td>...</td>\n",
       "      <td>...</td>\n",
       "    </tr>\n",
       "    <tr>\n",
       "      <th>1810</th>\n",
       "      <td>1810</td>\n",
       "      <td>netral</td>\n",
       "      <td>Negarawan sejati sll bangga dan mengedepankan ...</td>\n",
       "    </tr>\n",
       "    <tr>\n",
       "      <th>1811</th>\n",
       "      <td>1811</td>\n",
       "      <td>netral</td>\n",
       "      <td>1. HRS ceramah di Damai Indonesiaku 2. Perekon...</td>\n",
       "    </tr>\n",
       "    <tr>\n",
       "      <th>1812</th>\n",
       "      <td>1812</td>\n",
       "      <td>netral</td>\n",
       "      <td>Mari bangun bangsa dgn mendukung perekonomian ...</td>\n",
       "    </tr>\n",
       "    <tr>\n",
       "      <th>1813</th>\n",
       "      <td>1813</td>\n",
       "      <td>netral</td>\n",
       "      <td>Bantu majukan perekonomian bangsa bersama Pak ...</td>\n",
       "    </tr>\n",
       "    <tr>\n",
       "      <th>1814</th>\n",
       "      <td>1814</td>\n",
       "      <td>netral</td>\n",
       "      <td>Pak @jokowi mengubah cara pandang ekonomi. Kin...</td>\n",
       "    </tr>\n",
       "  </tbody>\n",
       "</table>\n",
       "<p>1815 rows × 3 columns</p>\n",
       "</div>"
      ],
      "text/plain": [
       "      Unnamed: 0 sentimen                                              tweet\n",
       "0              0  negatif  Kata @prabowo Indonesia tidak dihargai bangsa ...\n",
       "1              1   netral  Batuan Langka, Tasbih Jokowi Hadiah dari Habib...\n",
       "2              2   netral  Di era Jokowi, ekonomi Indonesia semakin baik....\n",
       "3              3  positif  Bagi Sumatera Selatan, Asian Games berdampak p...\n",
       "4              4  negatif  Negara kita ngutang buat bngun infrastruktur y...\n",
       "...          ...      ...                                                ...\n",
       "1810        1810   netral  Negarawan sejati sll bangga dan mengedepankan ...\n",
       "1811        1811   netral  1. HRS ceramah di Damai Indonesiaku 2. Perekon...\n",
       "1812        1812   netral  Mari bangun bangsa dgn mendukung perekonomian ...\n",
       "1813        1813   netral  Bantu majukan perekonomian bangsa bersama Pak ...\n",
       "1814        1814   netral  Pak @jokowi mengubah cara pandang ekonomi. Kin...\n",
       "\n",
       "[1815 rows x 3 columns]"
      ]
     },
     "execution_count": 2,
     "metadata": {},
     "output_type": "execute_result"
    }
   ],
   "source": [
    "data = pd.read_csv('/Users/muhammadzuamaalamin/Documents/labbelajar2new/project/sentimen/tweet.csv')\n",
    "data"
   ]
  },
  {
   "cell_type": "code",
   "execution_count": 3,
   "id": "b79b6f9c",
   "metadata": {},
   "outputs": [],
   "source": [
    "import re\n",
    "import pandas as pd\n",
    "import numpy as np\n",
    "import random\n",
    "from Sastrawi.StopWordRemover.StopWordRemoverFactory import StopWordRemoverFactory\n",
    "\n",
    "def preprocessing(text):\n",
    "    # case folding\n",
    "    text = text.lower()\n",
    "\n",
    "    # remove punctuation and non-alphabetic characters\n",
    "    text = re.sub(r'[^\\w\\s]', '', text)\n",
    "\n",
    "    # Menghapus link menggunakan regex\n",
    "    text = re.sub(r'http\\S+|www\\S+|https\\S+', '', text, flags=re.MULTILINE)\n",
    "        \n",
    "    # Menghapus hashtag menggunakan regex\n",
    "    text = re.sub(r'#\\S+', '', text)\n",
    "\n",
    "    # remove numbers\n",
    "    text = re.sub(r'\\d+', '', text)\n",
    "\n",
    "    # stopword removal\n",
    "    factory = StopWordRemoverFactory()\n",
    "    stopwords = factory.get_stop_words()\n",
    "    words = text.split()\n",
    "    text = \" \".join([word for word in words if word not in stopwords])\n",
    "\n",
    "    return text"
   ]
  },
  {
   "cell_type": "code",
   "execution_count": 4,
   "id": "12131d18",
   "metadata": {},
   "outputs": [
    {
     "data": {
      "text/html": [
       "<div>\n",
       "<style scoped>\n",
       "    .dataframe tbody tr th:only-of-type {\n",
       "        vertical-align: middle;\n",
       "    }\n",
       "\n",
       "    .dataframe tbody tr th {\n",
       "        vertical-align: top;\n",
       "    }\n",
       "\n",
       "    .dataframe thead th {\n",
       "        text-align: right;\n",
       "    }\n",
       "</style>\n",
       "<table border=\"1\" class=\"dataframe\">\n",
       "  <thead>\n",
       "    <tr style=\"text-align: right;\">\n",
       "      <th></th>\n",
       "      <th>Unnamed: 0</th>\n",
       "      <th>sentimen</th>\n",
       "      <th>tweet</th>\n",
       "    </tr>\n",
       "  </thead>\n",
       "  <tbody>\n",
       "    <tr>\n",
       "      <th>0</th>\n",
       "      <td>0</td>\n",
       "      <td>negatif</td>\n",
       "      <td>kata prabowo indonesia dihargai bangsa asing b...</td>\n",
       "    </tr>\n",
       "    <tr>\n",
       "      <th>1</th>\n",
       "      <td>1</td>\n",
       "      <td>netral</td>\n",
       "      <td>batuan langka tasbih jokowi hadiah habib luthf...</td>\n",
       "    </tr>\n",
       "    <tr>\n",
       "      <th>2</th>\n",
       "      <td>2</td>\n",
       "      <td>netral</td>\n",
       "      <td>era jokowi ekonomi indonesia semakin baik indo...</td>\n",
       "    </tr>\n",
       "    <tr>\n",
       "      <th>3</th>\n",
       "      <td>3</td>\n",
       "      <td>positif</td>\n",
       "      <td>sumatera selatan asian games berdampak pd ekon...</td>\n",
       "    </tr>\n",
       "    <tr>\n",
       "      <th>4</th>\n",
       "      <td>4</td>\n",
       "      <td>negatif</td>\n",
       "      <td>negara ngutang buat bngun infrastruktur udah d...</td>\n",
       "    </tr>\n",
       "    <tr>\n",
       "      <th>...</th>\n",
       "      <td>...</td>\n",
       "      <td>...</td>\n",
       "      <td>...</td>\n",
       "    </tr>\n",
       "    <tr>\n",
       "      <th>1810</th>\n",
       "      <td>1810</td>\n",
       "      <td>netral</td>\n",
       "      <td>negarawan sejati sll bangga mengedepankan harg...</td>\n",
       "    </tr>\n",
       "    <tr>\n",
       "      <th>1811</th>\n",
       "      <td>1811</td>\n",
       "      <td>netral</td>\n",
       "      <td>hrs ceramah damai indonesiaku perekonomian mak...</td>\n",
       "    </tr>\n",
       "    <tr>\n",
       "      <th>1812</th>\n",
       "      <td>1812</td>\n",
       "      <td>netral</td>\n",
       "      <td>bangun bangsa dgn mendukung perekonomian negar...</td>\n",
       "    </tr>\n",
       "    <tr>\n",
       "      <th>1813</th>\n",
       "      <td>1813</td>\n",
       "      <td>netral</td>\n",
       "      <td>bantu majukan perekonomian bangsa bersama pak ...</td>\n",
       "    </tr>\n",
       "    <tr>\n",
       "      <th>1814</th>\n",
       "      <td>1814</td>\n",
       "      <td>netral</td>\n",
       "      <td>pak jokowi mengubah cara pandang ekonomi kini ...</td>\n",
       "    </tr>\n",
       "  </tbody>\n",
       "</table>\n",
       "<p>1815 rows × 3 columns</p>\n",
       "</div>"
      ],
      "text/plain": [
       "      Unnamed: 0 sentimen                                              tweet\n",
       "0              0  negatif  kata prabowo indonesia dihargai bangsa asing b...\n",
       "1              1   netral  batuan langka tasbih jokowi hadiah habib luthf...\n",
       "2              2   netral  era jokowi ekonomi indonesia semakin baik indo...\n",
       "3              3  positif  sumatera selatan asian games berdampak pd ekon...\n",
       "4              4  negatif  negara ngutang buat bngun infrastruktur udah d...\n",
       "...          ...      ...                                                ...\n",
       "1810        1810   netral  negarawan sejati sll bangga mengedepankan harg...\n",
       "1811        1811   netral  hrs ceramah damai indonesiaku perekonomian mak...\n",
       "1812        1812   netral  bangun bangsa dgn mendukung perekonomian negar...\n",
       "1813        1813   netral  bantu majukan perekonomian bangsa bersama pak ...\n",
       "1814        1814   netral  pak jokowi mengubah cara pandang ekonomi kini ...\n",
       "\n",
       "[1815 rows x 3 columns]"
      ]
     },
     "execution_count": 4,
     "metadata": {},
     "output_type": "execute_result"
    }
   ],
   "source": [
    "data[\"tweet\"] = data[\"tweet\"].apply(preprocessing)\n",
    "data"
   ]
  },
  {
   "cell_type": "code",
   "execution_count": 5,
   "id": "91627691",
   "metadata": {},
   "outputs": [
    {
     "data": {
      "text/html": [
       "<div>\n",
       "<style scoped>\n",
       "    .dataframe tbody tr th:only-of-type {\n",
       "        vertical-align: middle;\n",
       "    }\n",
       "\n",
       "    .dataframe tbody tr th {\n",
       "        vertical-align: top;\n",
       "    }\n",
       "\n",
       "    .dataframe thead th {\n",
       "        text-align: right;\n",
       "    }\n",
       "</style>\n",
       "<table border=\"1\" class=\"dataframe\">\n",
       "  <thead>\n",
       "    <tr style=\"text-align: right;\">\n",
       "      <th></th>\n",
       "      <th>sentimen</th>\n",
       "      <th>tweet</th>\n",
       "    </tr>\n",
       "  </thead>\n",
       "  <tbody>\n",
       "    <tr>\n",
       "      <th>0</th>\n",
       "      <td>negatif</td>\n",
       "      <td>kata prabowo indonesia dihargai bangsa asing b...</td>\n",
       "    </tr>\n",
       "    <tr>\n",
       "      <th>1</th>\n",
       "      <td>netral</td>\n",
       "      <td>batuan langka tasbih jokowi hadiah habib luthf...</td>\n",
       "    </tr>\n",
       "    <tr>\n",
       "      <th>2</th>\n",
       "      <td>netral</td>\n",
       "      <td>era jokowi ekonomi indonesia semakin baik indo...</td>\n",
       "    </tr>\n",
       "    <tr>\n",
       "      <th>3</th>\n",
       "      <td>positif</td>\n",
       "      <td>sumatera selatan asian games berdampak pd ekon...</td>\n",
       "    </tr>\n",
       "    <tr>\n",
       "      <th>4</th>\n",
       "      <td>negatif</td>\n",
       "      <td>negara ngutang buat bngun infrastruktur udah d...</td>\n",
       "    </tr>\n",
       "    <tr>\n",
       "      <th>...</th>\n",
       "      <td>...</td>\n",
       "      <td>...</td>\n",
       "    </tr>\n",
       "    <tr>\n",
       "      <th>1810</th>\n",
       "      <td>netral</td>\n",
       "      <td>negarawan sejati sll bangga mengedepankan harg...</td>\n",
       "    </tr>\n",
       "    <tr>\n",
       "      <th>1811</th>\n",
       "      <td>netral</td>\n",
       "      <td>hrs ceramah damai indonesiaku perekonomian mak...</td>\n",
       "    </tr>\n",
       "    <tr>\n",
       "      <th>1812</th>\n",
       "      <td>netral</td>\n",
       "      <td>bangun bangsa dgn mendukung perekonomian negar...</td>\n",
       "    </tr>\n",
       "    <tr>\n",
       "      <th>1813</th>\n",
       "      <td>netral</td>\n",
       "      <td>bantu majukan perekonomian bangsa bersama pak ...</td>\n",
       "    </tr>\n",
       "    <tr>\n",
       "      <th>1814</th>\n",
       "      <td>netral</td>\n",
       "      <td>pak jokowi mengubah cara pandang ekonomi kini ...</td>\n",
       "    </tr>\n",
       "  </tbody>\n",
       "</table>\n",
       "<p>1815 rows × 2 columns</p>\n",
       "</div>"
      ],
      "text/plain": [
       "     sentimen                                              tweet\n",
       "0     negatif  kata prabowo indonesia dihargai bangsa asing b...\n",
       "1      netral  batuan langka tasbih jokowi hadiah habib luthf...\n",
       "2      netral  era jokowi ekonomi indonesia semakin baik indo...\n",
       "3     positif  sumatera selatan asian games berdampak pd ekon...\n",
       "4     negatif  negara ngutang buat bngun infrastruktur udah d...\n",
       "...       ...                                                ...\n",
       "1810   netral  negarawan sejati sll bangga mengedepankan harg...\n",
       "1811   netral  hrs ceramah damai indonesiaku perekonomian mak...\n",
       "1812   netral  bangun bangsa dgn mendukung perekonomian negar...\n",
       "1813   netral  bantu majukan perekonomian bangsa bersama pak ...\n",
       "1814   netral  pak jokowi mengubah cara pandang ekonomi kini ...\n",
       "\n",
       "[1815 rows x 2 columns]"
      ]
     },
     "execution_count": 5,
     "metadata": {},
     "output_type": "execute_result"
    }
   ],
   "source": [
    "data = data.drop(columns=['Unnamed: 0'])\n",
    "data"
   ]
  },
  {
   "cell_type": "code",
   "execution_count": 6,
   "id": "3a45667a",
   "metadata": {},
   "outputs": [
    {
     "name": "stderr",
     "output_type": "stream",
     "text": [
      "Stemming progress: 100%|██████████| 1815/1815 [04:47<00:00,  6.31it/s]"
     ]
    },
    {
     "name": "stdout",
     "output_type": "stream",
     "text": [
      "     sentimen                                              tweet\n",
      "0     negatif  kata prabowo indonesia harga bangsa asing beri...\n",
      "1      netral  batu langka tasbih jokowi hadiah habib luthfi ...\n",
      "2      netral  era jokowi ekonomi indonesia makin baik indone...\n",
      "3     positif  sumatera selatan asi games dampak pd ekonomi l...\n",
      "4     negatif  negara ngutang buat bngun infrastruktur udah d...\n",
      "...       ...                                                ...\n",
      "1810   netral  negarawan sejati sll bangga depan harga diri b...\n",
      "1811   netral  hrs ceramah damai indonesia ekonomi makin baik...\n",
      "1812   netral  bangun bangsa dgn dukung ekonomi negara sama p...\n",
      "1813   netral      bantu maju ekonomi bangsa sama pak jokowi yuk\n",
      "1814   netral  pak jokowi ubah cara pandang ekonomi kini semu...\n",
      "\n",
      "[1815 rows x 2 columns]\n"
     ]
    },
    {
     "name": "stderr",
     "output_type": "stream",
     "text": [
      "\n"
     ]
    }
   ],
   "source": [
    "from Sastrawi.Stemmer.StemmerFactory import StemmerFactory\n",
    "from tqdm import tqdm\n",
    "import pandas as pd\n",
    "\n",
    "# Contoh data\n",
    "# data = pd.read_csv('tweet.csv')  # kalau sudah ada data csv\n",
    "\n",
    "# Inisialisasi stemmer\n",
    "factory = StemmerFactory()\n",
    "stemmer = factory.create_stemmer()\n",
    "\n",
    "# Integrasi tqdm dengan pandas apply\n",
    "tqdm.pandas(desc=\"Stemming progress\")\n",
    "\n",
    "# Terapkan stemming dengan progress bar, pastikan input string\n",
    "data[\"tweet\"] = data[\"tweet\"].astype(str).progress_apply(lambda x: stemmer.stem(x))\n",
    "\n",
    "print(data)\n"
   ]
  },
  {
   "cell_type": "code",
   "execution_count": 7,
   "id": "3cb8b171",
   "metadata": {},
   "outputs": [],
   "source": [
    "from sklearn.preprocessing import LabelEncoder\n",
    "\n",
    "# Inisialisasi LabelEncoder\n",
    "label_encoder = LabelEncoder()\n",
    "y = label_encoder.fit_transform(data['sentimen'])\n",
    "X = data['tweet'].values"
   ]
  },
  {
   "cell_type": "code",
   "execution_count": 8,
   "id": "d365a483",
   "metadata": {},
   "outputs": [
    {
     "data": {
      "text/plain": [
       "array(['kata prabowo indonesia harga bangsa asing berita hoax buat kuasa kan rockygerung',\n",
       "       'batu langka tasbih jokowi hadiah habib luthfi harga mercy',\n",
       "       'era jokowi ekonomi indonesia makin baik indonesiamaju jokowilagi jokowimenangtotaldebat pictwittercomwythnxstp',\n",
       "       ...,\n",
       "       'bangun bangsa dgn dukung ekonomi negara sama pak jokowi ayo kerja',\n",
       "       'bantu maju ekonomi bangsa sama pak jokowi yuk',\n",
       "       'pak jokowi ubah cara pandang ekonomi kini semua orang hubung indonesia jadi lebih produktif efisien menyatuputihjokowi'],\n",
       "      dtype=object)"
      ]
     },
     "execution_count": 8,
     "metadata": {},
     "output_type": "execute_result"
    }
   ],
   "source": [
    "X"
   ]
  },
  {
   "cell_type": "code",
   "execution_count": 9,
   "id": "265c64b2",
   "metadata": {},
   "outputs": [],
   "source": [
    "# Setelah itu, fit_transform\n",
    "from sklearn.feature_extraction.text import TfidfVectorizer\n",
    "\n",
    "tv = TfidfVectorizer(max_features=2000, ngram_range=(1, 3), use_idf=True)\n",
    "X = tv.fit_transform(data['tweet']).toarray()"
   ]
  },
  {
   "cell_type": "code",
   "execution_count": 10,
   "id": "c729fcb3",
   "metadata": {},
   "outputs": [
    {
     "data": {
      "text/plain": [
       "((1452, 2000), (363, 2000), (1452,), (363,))"
      ]
     },
     "execution_count": 10,
     "metadata": {},
     "output_type": "execute_result"
    }
   ],
   "source": [
    "from sklearn.model_selection import train_test_split\n",
    "X_train, X_test, y_train, y_test = train_test_split(X, y, test_size=0.2, random_state=42)\n",
    "X_train.shape, X_test.shape, y_train.shape, y_test.shape"
   ]
  },
  {
   "cell_type": "code",
   "execution_count": 24,
   "id": "68ee48b1",
   "metadata": {},
   "outputs": [
    {
     "name": "stdout",
     "output_type": "stream",
     "text": [
      "Best parameters (SVM): {'C': 1, 'degree': 2, 'gamma': 'scale', 'kernel': 'poly'}\n",
      "Best score (SVM): 0.6047043488564996\n"
     ]
    }
   ],
   "source": [
    "# Definisikan parameter yang akan diuji untuk SVM\n",
    "from sklearn.svm import SVC\n",
    "from sklearn.model_selection import GridSearchCV\n",
    "\n",
    "param_grid_svm = {\n",
    "    \"C\": [1, 10, 100],  # Contoh nilai untuk parameter C\n",
    "    \"degree\": [2, 3],   # Contoh nilai untuk parameter degree\n",
    "    \"gamma\": [\"scale\", \"auto\"],  # Contoh nilai untuk parameter gamma\n",
    "    \"kernel\": [\"poly\", \"rbf\"]    # Contoh nilai untuk parameter kernel\n",
    "}\n",
    "\n",
    "# Inisialisasi model SVM\n",
    "svm_model = SVC()\n",
    "\n",
    "# Lakukan GridSearchCV untuk SVM\n",
    "grid_search_svm = GridSearchCV(estimator=svm_model, param_grid=param_grid_svm, cv=5, scoring='accuracy')\n",
    "grid_search_svm.fit(X_train, y_train)\n",
    "\n",
    "# Cetak hasil terbaik\n",
    "print(\"Best parameters (SVM):\", grid_search_svm.best_params_)\n",
    "print(\"Best score (SVM):\", grid_search_svm.best_score_)\n"
   ]
  },
  {
   "cell_type": "code",
   "execution_count": 25,
   "id": "57199ba0",
   "metadata": {},
   "outputs": [
    {
     "name": "stdout",
     "output_type": "stream",
     "text": [
      "Accuracy: 0.6143250688705234\n",
      "Precision: 0.6177583121691728\n",
      "Recall: 0.6143250688705234\n",
      "F1 Score: 0.6117370403515102\n"
     ]
    }
   ],
   "source": [
    "from sklearn.metrics import accuracy_score, precision_score, recall_score, f1_score\n",
    "\n",
    "# Prediksi data uji\n",
    "y_pred = grid_search_svm.best_estimator_.predict(X_test)\n",
    "\n",
    "# Menghitung metrik evaluasi\n",
    "accuracy = accuracy_score(y_test, y_pred)\n",
    "precision = precision_score(y_test, y_pred, average='weighted')\n",
    "recall = recall_score(y_test, y_pred, average='weighted')\n",
    "f1 = f1_score(y_test, y_pred, average='weighted')\n",
    "\n",
    "# Menampilkan hasil\n",
    "print(\"Accuracy:\", accuracy)\n",
    "print(\"Precision:\", precision)\n",
    "print(\"Recall:\", recall)\n",
    "print(\"F1 Score:\", f1)\n"
   ]
  },
  {
   "cell_type": "code",
   "execution_count": 28,
   "id": "9bd554af",
   "metadata": {},
   "outputs": [
    {
     "data": {
      "image/png": "[encoded data removed]",
      "text/plain": [
       "<Figure size 800x600 with 2 Axes>"
      ]
     },
     "metadata": {},
     "output_type": "display_data"
    }
   ],
   "source": [
    "from sklearn.metrics import confusion_matrix\n",
    "import seaborn as sns\n",
    "\n",
    "import matplotlib.pyplot as plt\n",
    "\n",
    "# Membuat confusion matrix\n",
    "cm = confusion_matrix(y_test, y_pred)\n",
    "\n",
    "# Visualisasi confusion matrix\n",
    "plt.figure(figsize=(8, 6))\n",
    "sns.heatmap(cm, annot=True, fmt='d', cmap='Blues', xticklabels=label_encoder.classes_, yticklabels=label_encoder.classes_)\n",
    "plt.xlabel('Predicted')\n",
    "plt.ylabel('Actual')\n",
    "plt.title('Confusion Matrix SVM')\n",
    "plt.show()"
   ]
  },
  {
   "cell_type": "code",
   "execution_count": null,
   "id": "35e5f83a",
   "metadata": {},
   "outputs": [],
   "source": []
  },
  {
   "cell_type": "code",
   "execution_count": 18,
   "id": "22a7356f",
   "metadata": {},
   "outputs": [
    {
     "name": "stdout",
     "output_type": "stream",
     "text": [
      "Hyperparameter tuning results exported successfully.\n"
     ]
    }
   ],
   "source": [
    "import json\n",
    "\n",
    "# Prepare data to export\n",
    "tuning_results = {\n",
    "    \"best_params\": grid_search_svm.best_params_,\n",
    "    \"best_score\": grid_search_svm.best_score_\n",
    "}\n",
    "\n",
    "# Export to a JSON file\n",
    "with open('svm_hyperparameter_tuning_results.json', 'w') as file:\n",
    "    json.dump(tuning_results, file, indent=4)\n",
    "\n",
    "print(\"Hyperparameter tuning results exported successfully.\")"
   ]
  },
  {
   "cell_type": "code",
   "execution_count": 14,
   "id": "5646e7bc",
   "metadata": {},
   "outputs": [
    {
     "name": "stdout",
     "output_type": "stream",
     "text": [
      "Model SVM berhasil dilatih.\n"
     ]
    }
   ],
   "source": [
    "# Inisialisasi model SVM\n",
    "svm_model_basic = SVC(kernel='linear', C=1)\n",
    "\n",
    "# Latih model menggunakan data latih\n",
    "svm_model_basic.fit(X_train, y_train)\n",
    "\n",
    "# Cetak hasil pelatihan\n",
    "print(\"Model SVM berhasil dilatih.\")"
   ]
  },
  {
   "cell_type": "code",
   "execution_count": 15,
   "id": "f225c7f2",
   "metadata": {},
   "outputs": [
    {
     "name": "stdout",
     "output_type": "stream",
     "text": [
      "Accuracy: 0.5977961432506887\n",
      "Classification Report:\n",
      "               precision    recall  f1-score   support\n",
      "\n",
      "           0       0.56      0.71      0.63       115\n",
      "           1       0.66      0.58      0.62       118\n",
      "           2       0.59      0.51      0.55       130\n",
      "\n",
      "    accuracy                           0.60       363\n",
      "   macro avg       0.60      0.60      0.60       363\n",
      "weighted avg       0.60      0.60      0.60       363\n",
      "\n"
     ]
    }
   ],
   "source": [
    "from sklearn.metrics import classification_report, accuracy_score\n",
    "\n",
    "# Prediksi data uji\n",
    "y_pred = svm_model_basic.predict(X_test)\n",
    "\n",
    "# Evaluasi performa model\n",
    "print(\"Accuracy:\", accuracy_score(y_test, y_pred))\n",
    "print(\"Classification Report:\\n\", classification_report(y_test, y_pred))\n"
   ]
  }
 ],
 "metadata": {
  "kernelspec": {
   "display_name": "Python 3",
   "language": "python",
   "name": "python3"
  },
  "language_info": {
   "codemirror_mode": {
    "name": "ipython",
    "version": 3
   },
   "file_extension": ".py",
   "mimetype": "text/x-python",
   "name": "python",
   "nbconvert_exporter": "python",
   "pygments_lexer": "ipython3",
   "version": "3.11.3"
  }
 },
 "nbformat": 4,
 "nbformat_minor": 5
}
